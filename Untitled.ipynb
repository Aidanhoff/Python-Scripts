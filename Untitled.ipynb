{
 "cells": [
  {
   "cell_type": "code",
   "execution_count": 1,
   "metadata": {},
   "outputs": [],
   "source": [
    "import numpy\n",
    "import pandas\n",
    "import sys"
   ]
  },
  {
   "cell_type": "code",
   "execution_count": 3,
   "metadata": {},
   "outputs": [
    {
     "name": "stdout",
     "output_type": "stream",
     "text": [
      "                                          Description  Blueberries  \\\n",
      "0   7:30-15:15, Delta, Supervisor: Arlan, Partner:...     0.000000   \n",
      "1   7:00-15:45, Emma Lea, Supervisor: Arlan, Partn...     0.000000   \n",
      "2   7:30-16:15, Driediger/Krause, Supervisor: Jen,...     0.000000   \n",
      "3   7:30-15:30, Pitt Meadows, Supervisor: Dru, Par...    10.666667   \n",
      "4   7:30-15:30, Cloverdale, Supervisor: Jen, Partn...    17.600000   \n",
      "5   7:30-15:30, Golden Eagle(traps), Supervisor: N...    28.000000   \n",
      "6   7:30-16:15, Emma Lea, Supervisor: Arlan, Partn...    26.727273   \n",
      "7   7:30-16:00, Driediger/Krause, Supervisor: Jen,...     1.625000   \n",
      "8   6:30-3:15, Pitt Meadows, Supervisor: Dru, Part...     4.363636   \n",
      "9                              7:30-14:30, Cloverdale    80.000000   \n",
      "10  7:30-17:15, Delta, Supervisor: Arlan, Partner:...    45.000000   \n",
      "11  7:30-14:30, Emma Lea, Supervisor: Arlan, Partn...     0.000000   \n",
      "12  7:30-15:00, Driediger/Krause, Supervisor: Jen,...     0.000000   \n",
      "13  7:00-11:30, Pitt Meadows, Supervisor: Dru, Par...    13.888889   \n",
      "14  7:30-15:30, Cloverdale, Supervisor: Jen, Partn...    69.600000   \n",
      "15  7:30-13:45, Delta, Supervisor: Arlan, Partner:...    38.000000   \n",
      "16  7:30-14:30, Emma Lea, Supervisor: Arlan, Partn...    23.384615   \n",
      "17  7:30-15:00, Driediger/Krause, Supervisor: Jen,...     6.857143   \n",
      "18  7:30-14:00, Delta, Supervisor: All, Partner: E...     2.076923   \n",
      "19                             7:30-12:00, Cloverdale     5.333333   \n",
      "20  7:30-14:30, Chong/Emma Lea, Supervisor: Arlan,...     8.000000   \n",
      "21  7:30-15:00, Driediger/Krause, Supervisor: Jen,...     1.214286   \n",
      "22  7:30-16:00, Pitt Meadows/Maple Ridge, Supervis...    12.500000   \n",
      "23  7:30-14:15, Cloverdale, Supervisor: Dru, Partn...     0.000000   \n",
      "\n",
      "    China/Korea blueberries  Strawberries  Raspberry/Blackberry  \\\n",
      "0                  0.000000      0.000000              0.000000   \n",
      "1                  0.000000      0.000000              0.000000   \n",
      "2                  0.000000      6.545455              2.454545   \n",
      "3                  5.333333      0.000000              0.000000   \n",
      "4                  8.800000      0.000000              0.000000   \n",
      "5                  0.000000      0.000000              0.000000   \n",
      "6                  0.000000     15.272727              0.000000   \n",
      "7                  0.000000      8.125000              3.250000   \n",
      "8                 13.636364      0.000000              0.000000   \n",
      "9                  0.000000      0.000000              0.000000   \n",
      "10                 0.000000      0.000000              0.000000   \n",
      "11                 0.000000      0.000000              0.000000   \n",
      "12                 0.000000      6.428571              2.571429   \n",
      "13                11.111111      0.000000              0.000000   \n",
      "14                17.400000      0.000000              0.000000   \n",
      "15                 0.000000      0.000000              0.000000   \n",
      "16                 0.000000     14.615385              0.000000   \n",
      "17                 0.000000     16.000000              9.142857   \n",
      "18                 0.000000      0.000000              0.000000   \n",
      "19                 6.666667      0.000000              0.000000   \n",
      "20                 0.000000     28.000000              0.000000   \n",
      "21                 0.000000      6.071429              4.857143   \n",
      "22                 3.125000      0.000000              0.000000   \n",
      "23                 0.000000      0.000000              0.000000   \n",
      "\n",
      "    SWD Mass Trapping  Silver Valley Nutrient Sampling 2018  KM total  \n",
      "0            0.000000                              0.000000       NaN  \n",
      "1            0.000000                              0.000000       NaN  \n",
      "2            0.000000                              0.000000       9.0  \n",
      "3            0.000000                              0.000000      16.0  \n",
      "4            6.600000                              0.000000      33.0  \n",
      "5            0.000000                              0.000000      28.0  \n",
      "6            0.000000                              0.000000      42.0  \n",
      "7            0.000000                              0.000000      13.0  \n",
      "8            0.000000                              0.000000      18.0  \n",
      "9            0.000000                              0.000000      80.0  \n",
      "10           0.000000                              0.000000      45.0  \n",
      "11           0.000000                              0.000000       0.0  \n",
      "12           0.000000                              0.000000       9.0  \n",
      "13           0.000000                              0.000000      25.0  \n",
      "14           0.000000                              0.000000      87.0  \n",
      "15           0.000000                              0.000000      38.0  \n",
      "16           0.000000                              0.000000      32.0  \n",
      "17           0.000000                              0.000000       9.0  \n",
      "18           6.923077                              0.000000      12.0  \n",
      "19           0.000000                              0.000000      38.0  \n",
      "20           0.000000                             16.000000      52.0  \n",
      "21           0.000000                              4.857143      17.0  \n",
      "22           0.000000                              9.375000      25.0  \n",
      "23           0.000000                             41.000000      41.0  \n"
     ]
    }
   ],
   "source": [
    "thing = pandas.read_csv(\"C:/Users/aidan/Documents/peanut.csv\")\n",
    "print(thing)"
   ]
  },
  {
   "cell_type": "code",
   "execution_count": null,
   "metadata": {},
   "outputs": [],
   "source": []
  }
 ],
 "metadata": {
  "kernelspec": {
   "display_name": "Python 3",
   "language": "python",
   "name": "python3"
  },
  "language_info": {
   "codemirror_mode": {
    "name": "ipython",
    "version": 3
   },
   "file_extension": ".py",
   "mimetype": "text/x-python",
   "name": "python",
   "nbconvert_exporter": "python",
   "pygments_lexer": "ipython3",
   "version": "3.7.0"
  }
 },
 "nbformat": 4,
 "nbformat_minor": 2
}
